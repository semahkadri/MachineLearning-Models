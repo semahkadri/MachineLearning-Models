{
 "cells": [
  {
   "cell_type": "code",
   "execution_count": 31,
   "id": "9bc03ef7",
   "metadata": {},
   "outputs": [],
   "source": [
    "import pandas as pd\n",
    "from sklearn.preprocessing import LabelEncoder\n",
    "from sklearn.model_selection import train_test_split\n",
    "from lightgbm import LGBMClassifier\n",
    "from sklearn.metrics import accuracy_score, confusion_matrix, classification_report, ConfusionMatrixDisplay\n",
    "import matplotlib.pyplot as plt\n",
    "import seaborn as sns"
   ]
  },
  {
   "cell_type": "code",
   "execution_count": 2,
   "id": "dfad778d",
   "metadata": {},
   "outputs": [],
   "source": [
    "data = pd.read_excel('dataport.xlsx')\n",
    "data2 = pd.read_excel('all-cars.xls')"
   ]
  },
  {
   "cell_type": "markdown",
   "id": "8fbf492a",
   "metadata": {},
   "source": [
    "**Data cleaning**"
   ]
  },
  {
   "cell_type": "code",
   "execution_count": 3,
   "id": "e3559f05",
   "metadata": {},
   "outputs": [
    {
     "data": {
      "text/html": [
       "<div>\n",
       "<style scoped>\n",
       "    .dataframe tbody tr th:only-of-type {\n",
       "        vertical-align: middle;\n",
       "    }\n",
       "\n",
       "    .dataframe tbody tr th {\n",
       "        vertical-align: top;\n",
       "    }\n",
       "\n",
       "    .dataframe thead th {\n",
       "        text-align: right;\n",
       "    }\n",
       "</style>\n",
       "<table border=\"1\" class=\"dataframe\">\n",
       "  <thead>\n",
       "    <tr style=\"text-align: right;\">\n",
       "      <th></th>\n",
       "      <th>importateur</th>\n",
       "      <th>jan</th>\n",
       "      <th>fev</th>\n",
       "      <th>mars</th>\n",
       "      <th>avr</th>\n",
       "      <th>mai</th>\n",
       "      <th>juin</th>\n",
       "      <th>juillet</th>\n",
       "      <th>out</th>\n",
       "      <th>sept</th>\n",
       "      <th>oct</th>\n",
       "      <th>nov</th>\n",
       "      <th>dec</th>\n",
       "      <th>nbmarque</th>\n",
       "      <th>nbagenceoff</th>\n",
       "      <th>origine</th>\n",
       "      <th>type</th>\n",
       "    </tr>\n",
       "  </thead>\n",
       "  <tbody>\n",
       "    <tr>\n",
       "      <th>0</th>\n",
       "      <td>ADEV SARL</td>\n",
       "      <td>190</td>\n",
       "      <td>22</td>\n",
       "      <td>285</td>\n",
       "      <td>484</td>\n",
       "      <td>238</td>\n",
       "      <td>19</td>\n",
       "      <td>335</td>\n",
       "      <td>189</td>\n",
       "      <td>240</td>\n",
       "      <td>73</td>\n",
       "      <td>227</td>\n",
       "      <td>45</td>\n",
       "      <td>1</td>\n",
       "      <td>1</td>\n",
       "      <td>asiatique</td>\n",
       "      <td>S</td>\n",
       "    </tr>\n",
       "    <tr>\n",
       "      <th>1</th>\n",
       "      <td>AFRIQUE AUTO</td>\n",
       "      <td>385</td>\n",
       "      <td>481</td>\n",
       "      <td>601</td>\n",
       "      <td>491</td>\n",
       "      <td>220</td>\n",
       "      <td>398</td>\n",
       "      <td>488</td>\n",
       "      <td>602</td>\n",
       "      <td>933</td>\n",
       "      <td>214</td>\n",
       "      <td>451</td>\n",
       "      <td>156</td>\n",
       "      <td>2</td>\n",
       "      <td>1</td>\n",
       "      <td>american</td>\n",
       "      <td>S</td>\n",
       "    </tr>\n",
       "    <tr>\n",
       "      <th>2</th>\n",
       "      <td>ALPHA FORD</td>\n",
       "      <td>206</td>\n",
       "      <td>271</td>\n",
       "      <td>625</td>\n",
       "      <td>569</td>\n",
       "      <td>1057</td>\n",
       "      <td>980</td>\n",
       "      <td>1187</td>\n",
       "      <td>276</td>\n",
       "      <td>677</td>\n",
       "      <td>905</td>\n",
       "      <td>566</td>\n",
       "      <td>191</td>\n",
       "      <td>1</td>\n",
       "      <td>2</td>\n",
       "      <td>american</td>\n",
       "      <td>S</td>\n",
       "    </tr>\n",
       "    <tr>\n",
       "      <th>3</th>\n",
       "      <td>ALPHA HYUNDAI MOTOR</td>\n",
       "      <td>25</td>\n",
       "      <td>22</td>\n",
       "      <td>431</td>\n",
       "      <td>284</td>\n",
       "      <td>400</td>\n",
       "      <td>646</td>\n",
       "      <td>494</td>\n",
       "      <td>540</td>\n",
       "      <td>478</td>\n",
       "      <td>1064</td>\n",
       "      <td>425</td>\n",
       "      <td>73</td>\n",
       "      <td>1</td>\n",
       "      <td>4</td>\n",
       "      <td>asiatique</td>\n",
       "      <td>S</td>\n",
       "    </tr>\n",
       "    <tr>\n",
       "      <th>4</th>\n",
       "      <td>ALPHA INTER</td>\n",
       "      <td>23</td>\n",
       "      <td>22</td>\n",
       "      <td>25</td>\n",
       "      <td>28</td>\n",
       "      <td>25</td>\n",
       "      <td>29</td>\n",
       "      <td>68</td>\n",
       "      <td>41</td>\n",
       "      <td>13</td>\n",
       "      <td>14</td>\n",
       "      <td>58</td>\n",
       "      <td>16</td>\n",
       "      <td>2</td>\n",
       "      <td>2</td>\n",
       "      <td>european</td>\n",
       "      <td>S</td>\n",
       "    </tr>\n",
       "    <tr>\n",
       "      <th>5</th>\n",
       "      <td>ARTES</td>\n",
       "      <td>876</td>\n",
       "      <td>1223</td>\n",
       "      <td>4267</td>\n",
       "      <td>2361</td>\n",
       "      <td>2716</td>\n",
       "      <td>1676</td>\n",
       "      <td>1288</td>\n",
       "      <td>1548</td>\n",
       "      <td>865</td>\n",
       "      <td>852</td>\n",
       "      <td>736</td>\n",
       "      <td>464</td>\n",
       "      <td>2</td>\n",
       "      <td>2</td>\n",
       "      <td>european</td>\n",
       "      <td>B</td>\n",
       "    </tr>\n",
       "    <tr>\n",
       "      <th>6</th>\n",
       "      <td>AURES AUTO CITROENE</td>\n",
       "      <td>530</td>\n",
       "      <td>1306</td>\n",
       "      <td>1770</td>\n",
       "      <td>1327</td>\n",
       "      <td>2261</td>\n",
       "      <td>2090</td>\n",
       "      <td>2329</td>\n",
       "      <td>1083</td>\n",
       "      <td>1209</td>\n",
       "      <td>1126</td>\n",
       "      <td>650</td>\n",
       "      <td>527</td>\n",
       "      <td>2</td>\n",
       "      <td>6</td>\n",
       "      <td>european</td>\n",
       "      <td>B</td>\n",
       "    </tr>\n",
       "    <tr>\n",
       "      <th>7</th>\n",
       "      <td>BSB</td>\n",
       "      <td>283</td>\n",
       "      <td>54</td>\n",
       "      <td>131</td>\n",
       "      <td>344</td>\n",
       "      <td>714</td>\n",
       "      <td>972</td>\n",
       "      <td>522</td>\n",
       "      <td>794</td>\n",
       "      <td>698</td>\n",
       "      <td>643</td>\n",
       "      <td>673</td>\n",
       "      <td>205</td>\n",
       "      <td>1</td>\n",
       "      <td>7</td>\n",
       "      <td>asiatique</td>\n",
       "      <td>S</td>\n",
       "    </tr>\n",
       "    <tr>\n",
       "      <th>8</th>\n",
       "      <td>CITY CARS</td>\n",
       "      <td>35</td>\n",
       "      <td>1054</td>\n",
       "      <td>1653</td>\n",
       "      <td>835</td>\n",
       "      <td>613</td>\n",
       "      <td>379</td>\n",
       "      <td>1256</td>\n",
       "      <td>737</td>\n",
       "      <td>693</td>\n",
       "      <td>642</td>\n",
       "      <td>572</td>\n",
       "      <td>850</td>\n",
       "      <td>1</td>\n",
       "      <td>12</td>\n",
       "      <td>asiatique</td>\n",
       "      <td>S</td>\n",
       "    </tr>\n",
       "    <tr>\n",
       "      <th>9</th>\n",
       "      <td>ECONOMIC AUTO</td>\n",
       "      <td>279</td>\n",
       "      <td>137</td>\n",
       "      <td>48</td>\n",
       "      <td>196</td>\n",
       "      <td>157</td>\n",
       "      <td>150</td>\n",
       "      <td>527</td>\n",
       "      <td>399</td>\n",
       "      <td>399</td>\n",
       "      <td>307</td>\n",
       "      <td>295</td>\n",
       "      <td>261</td>\n",
       "      <td>1</td>\n",
       "      <td>8</td>\n",
       "      <td>asiatique</td>\n",
       "      <td>S</td>\n",
       "    </tr>\n",
       "    <tr>\n",
       "      <th>10</th>\n",
       "      <td>ETS ZOUARI</td>\n",
       "      <td>0</td>\n",
       "      <td>155</td>\n",
       "      <td>0</td>\n",
       "      <td>0</td>\n",
       "      <td>96</td>\n",
       "      <td>0</td>\n",
       "      <td>251</td>\n",
       "      <td>0</td>\n",
       "      <td>121</td>\n",
       "      <td>0</td>\n",
       "      <td>272</td>\n",
       "      <td>0</td>\n",
       "      <td>3</td>\n",
       "      <td>7</td>\n",
       "      <td>asiatique</td>\n",
       "      <td>S</td>\n",
       "    </tr>\n",
       "    <tr>\n",
       "      <th>11</th>\n",
       "      <td>ITALCAR</td>\n",
       "      <td>332</td>\n",
       "      <td>988</td>\n",
       "      <td>752</td>\n",
       "      <td>1497</td>\n",
       "      <td>1822</td>\n",
       "      <td>1165</td>\n",
       "      <td>1257</td>\n",
       "      <td>1173</td>\n",
       "      <td>809</td>\n",
       "      <td>1062</td>\n",
       "      <td>752</td>\n",
       "      <td>342</td>\n",
       "      <td>4</td>\n",
       "      <td>4</td>\n",
       "      <td>european</td>\n",
       "      <td>S</td>\n",
       "    </tr>\n",
       "    <tr>\n",
       "      <th>12</th>\n",
       "      <td>SAM</td>\n",
       "      <td>132</td>\n",
       "      <td>192</td>\n",
       "      <td>0</td>\n",
       "      <td>100</td>\n",
       "      <td>95</td>\n",
       "      <td>400</td>\n",
       "      <td>221</td>\n",
       "      <td>225</td>\n",
       "      <td>1</td>\n",
       "      <td>187</td>\n",
       "      <td>177</td>\n",
       "      <td>227</td>\n",
       "      <td>1</td>\n",
       "      <td>1</td>\n",
       "      <td>asiatique</td>\n",
       "      <td>S</td>\n",
       "    </tr>\n",
       "    <tr>\n",
       "      <th>13</th>\n",
       "      <td>SAYARA</td>\n",
       "      <td>3</td>\n",
       "      <td>0</td>\n",
       "      <td>1</td>\n",
       "      <td>33</td>\n",
       "      <td>37</td>\n",
       "      <td>7</td>\n",
       "      <td>18</td>\n",
       "      <td>0</td>\n",
       "      <td>3</td>\n",
       "      <td>8</td>\n",
       "      <td>5</td>\n",
       "      <td>0</td>\n",
       "      <td>1</td>\n",
       "      <td>3</td>\n",
       "      <td>european</td>\n",
       "      <td>S</td>\n",
       "    </tr>\n",
       "    <tr>\n",
       "      <th>14</th>\n",
       "      <td>SOCIETE LE MOTEUR</td>\n",
       "      <td>84</td>\n",
       "      <td>127</td>\n",
       "      <td>132</td>\n",
       "      <td>129</td>\n",
       "      <td>644</td>\n",
       "      <td>306</td>\n",
       "      <td>171</td>\n",
       "      <td>154</td>\n",
       "      <td>108</td>\n",
       "      <td>200</td>\n",
       "      <td>153</td>\n",
       "      <td>153</td>\n",
       "      <td>2</td>\n",
       "      <td>3</td>\n",
       "      <td>european</td>\n",
       "      <td>S</td>\n",
       "    </tr>\n",
       "    <tr>\n",
       "      <th>15</th>\n",
       "      <td>SOTUDIS</td>\n",
       "      <td>118</td>\n",
       "      <td>94</td>\n",
       "      <td>12</td>\n",
       "      <td>33</td>\n",
       "      <td>90</td>\n",
       "      <td>247</td>\n",
       "      <td>191</td>\n",
       "      <td>205</td>\n",
       "      <td>192</td>\n",
       "      <td>40</td>\n",
       "      <td>63</td>\n",
       "      <td>42</td>\n",
       "      <td>2</td>\n",
       "      <td>3</td>\n",
       "      <td>asiatique</td>\n",
       "      <td>S</td>\n",
       "    </tr>\n",
       "    <tr>\n",
       "      <th>16</th>\n",
       "      <td>STAFIM</td>\n",
       "      <td>887</td>\n",
       "      <td>847</td>\n",
       "      <td>2783</td>\n",
       "      <td>1710</td>\n",
       "      <td>1828</td>\n",
       "      <td>1199</td>\n",
       "      <td>1518</td>\n",
       "      <td>1498</td>\n",
       "      <td>1356</td>\n",
       "      <td>1022</td>\n",
       "      <td>406</td>\n",
       "      <td>971</td>\n",
       "      <td>1</td>\n",
       "      <td>6</td>\n",
       "      <td>european</td>\n",
       "      <td>B</td>\n",
       "    </tr>\n",
       "    <tr>\n",
       "      <th>17</th>\n",
       "      <td>STE BEN JEMAA MOTORS</td>\n",
       "      <td>86</td>\n",
       "      <td>70</td>\n",
       "      <td>201</td>\n",
       "      <td>227</td>\n",
       "      <td>88</td>\n",
       "      <td>97</td>\n",
       "      <td>102</td>\n",
       "      <td>163</td>\n",
       "      <td>88</td>\n",
       "      <td>144</td>\n",
       "      <td>192</td>\n",
       "      <td>258</td>\n",
       "      <td>2</td>\n",
       "      <td>2</td>\n",
       "      <td>european</td>\n",
       "      <td>S</td>\n",
       "    </tr>\n",
       "    <tr>\n",
       "      <th>18</th>\n",
       "      <td>STE ENNAKL AUTO</td>\n",
       "      <td>316</td>\n",
       "      <td>1912</td>\n",
       "      <td>3143</td>\n",
       "      <td>2441</td>\n",
       "      <td>2214</td>\n",
       "      <td>2354</td>\n",
       "      <td>2417</td>\n",
       "      <td>2046</td>\n",
       "      <td>1512</td>\n",
       "      <td>1514</td>\n",
       "      <td>1373</td>\n",
       "      <td>1010</td>\n",
       "      <td>5</td>\n",
       "      <td>21</td>\n",
       "      <td>european</td>\n",
       "      <td>B</td>\n",
       "    </tr>\n",
       "  </tbody>\n",
       "</table>\n",
       "</div>"
      ],
      "text/plain": [
       "             importateur  jan   fev  mars   avr   mai  juin  juillet   out  \\\n",
       "0              ADEV SARL  190    22   285   484   238    19      335   189   \n",
       "1           AFRIQUE AUTO  385   481   601   491   220   398      488   602   \n",
       "2             ALPHA FORD  206   271   625   569  1057   980     1187   276   \n",
       "3    ALPHA HYUNDAI MOTOR   25    22   431   284   400   646      494   540   \n",
       "4            ALPHA INTER   23    22    25    28    25    29       68    41   \n",
       "5                  ARTES  876  1223  4267  2361  2716  1676     1288  1548   \n",
       "6    AURES AUTO CITROENE  530  1306  1770  1327  2261  2090     2329  1083   \n",
       "7                    BSB  283    54   131   344   714   972      522   794   \n",
       "8              CITY CARS   35  1054  1653   835   613   379     1256   737   \n",
       "9          ECONOMIC AUTO  279   137    48   196   157   150      527   399   \n",
       "10            ETS ZOUARI    0   155     0     0    96     0      251     0   \n",
       "11               ITALCAR  332   988   752  1497  1822  1165     1257  1173   \n",
       "12                  SAM   132   192     0   100    95   400      221   225   \n",
       "13                SAYARA    3     0     1    33    37     7       18     0   \n",
       "14     SOCIETE LE MOTEUR   84   127   132   129   644   306      171   154   \n",
       "15               SOTUDIS  118    94    12    33    90   247      191   205   \n",
       "16                STAFIM  887   847  2783  1710  1828  1199     1518  1498   \n",
       "17  STE BEN JEMAA MOTORS   86    70   201   227    88    97      102   163   \n",
       "18       STE ENNAKL AUTO  316  1912  3143  2441  2214  2354     2417  2046   \n",
       "\n",
       "    sept   oct   nov   dec  nbmarque  nbagenceoff    origine type  \n",
       "0    240    73   227    45         1            1  asiatique    S  \n",
       "1    933   214   451   156         2            1   american    S  \n",
       "2    677   905   566   191         1            2   american    S  \n",
       "3    478  1064   425    73         1            4  asiatique    S  \n",
       "4     13    14    58    16         2            2   european    S  \n",
       "5    865   852   736   464         2            2   european    B  \n",
       "6   1209  1126   650   527         2            6   european    B  \n",
       "7    698   643   673   205         1            7  asiatique    S  \n",
       "8    693   642   572   850         1           12  asiatique    S  \n",
       "9    399   307   295   261         1            8  asiatique    S  \n",
       "10   121     0   272     0         3            7  asiatique    S  \n",
       "11   809  1062   752   342         4            4   european    S  \n",
       "12     1   187   177   227         1            1  asiatique    S  \n",
       "13     3     8     5     0         1            3   european    S  \n",
       "14   108   200   153   153         2            3   european    S  \n",
       "15   192    40    63    42         2            3  asiatique    S  \n",
       "16  1356  1022   406   971         1            6   european    B  \n",
       "17    88   144   192   258         2            2   european    S  \n",
       "18  1512  1514  1373  1010         5           21   european    B  "
      ]
     },
     "execution_count": 3,
     "metadata": {},
     "output_type": "execute_result"
    }
   ],
   "source": [
    "data"
   ]
  },
  {
   "cell_type": "code",
   "execution_count": 54,
   "id": "d26e1e5d",
   "metadata": {},
   "outputs": [
    {
     "data": {
      "text/html": [
       "<div>\n",
       "<style scoped>\n",
       "    .dataframe tbody tr th:only-of-type {\n",
       "        vertical-align: middle;\n",
       "    }\n",
       "\n",
       "    .dataframe tbody tr th {\n",
       "        vertical-align: top;\n",
       "    }\n",
       "\n",
       "    .dataframe thead th {\n",
       "        text-align: right;\n",
       "    }\n",
       "</style>\n",
       "<table border=\"1\" class=\"dataframe\">\n",
       "  <thead>\n",
       "    <tr style=\"text-align: right;\">\n",
       "      <th></th>\n",
       "      <th>Make</th>\n",
       "      <th>Model</th>\n",
       "      <th>Type</th>\n",
       "      <th>Origin</th>\n",
       "      <th>DriveTrain</th>\n",
       "      <th>MSRP</th>\n",
       "      <th>Invoice</th>\n",
       "      <th>EngineSize</th>\n",
       "      <th>Cylinders</th>\n",
       "      <th>Horsepower</th>\n",
       "      <th>MPG_City</th>\n",
       "      <th>MPG_Highway</th>\n",
       "      <th>Weight</th>\n",
       "      <th>Wheelbase</th>\n",
       "      <th>Length</th>\n",
       "    </tr>\n",
       "  </thead>\n",
       "  <tbody>\n",
       "    <tr>\n",
       "      <th>0</th>\n",
       "      <td>0</td>\n",
       "      <td>229</td>\n",
       "      <td>1</td>\n",
       "      <td>0</td>\n",
       "      <td>0</td>\n",
       "      <td>36945</td>\n",
       "      <td>33337</td>\n",
       "      <td>3.5</td>\n",
       "      <td>6.0</td>\n",
       "      <td>265</td>\n",
       "      <td>17</td>\n",
       "      <td>23</td>\n",
       "      <td>4451</td>\n",
       "      <td>106</td>\n",
       "      <td>189</td>\n",
       "    </tr>\n",
       "    <tr>\n",
       "      <th>1</th>\n",
       "      <td>0</td>\n",
       "      <td>293</td>\n",
       "      <td>2</td>\n",
       "      <td>0</td>\n",
       "      <td>1</td>\n",
       "      <td>23820</td>\n",
       "      <td>21761</td>\n",
       "      <td>2.0</td>\n",
       "      <td>4.0</td>\n",
       "      <td>200</td>\n",
       "      <td>24</td>\n",
       "      <td>31</td>\n",
       "      <td>2778</td>\n",
       "      <td>101</td>\n",
       "      <td>172</td>\n",
       "    </tr>\n",
       "    <tr>\n",
       "      <th>2</th>\n",
       "      <td>0</td>\n",
       "      <td>366</td>\n",
       "      <td>2</td>\n",
       "      <td>0</td>\n",
       "      <td>1</td>\n",
       "      <td>26990</td>\n",
       "      <td>24647</td>\n",
       "      <td>2.4</td>\n",
       "      <td>4.0</td>\n",
       "      <td>200</td>\n",
       "      <td>22</td>\n",
       "      <td>29</td>\n",
       "      <td>3230</td>\n",
       "      <td>105</td>\n",
       "      <td>183</td>\n",
       "    </tr>\n",
       "    <tr>\n",
       "      <th>3</th>\n",
       "      <td>0</td>\n",
       "      <td>365</td>\n",
       "      <td>2</td>\n",
       "      <td>0</td>\n",
       "      <td>1</td>\n",
       "      <td>33195</td>\n",
       "      <td>30299</td>\n",
       "      <td>3.2</td>\n",
       "      <td>6.0</td>\n",
       "      <td>270</td>\n",
       "      <td>20</td>\n",
       "      <td>28</td>\n",
       "      <td>3575</td>\n",
       "      <td>108</td>\n",
       "      <td>186</td>\n",
       "    </tr>\n",
       "    <tr>\n",
       "      <th>4</th>\n",
       "      <td>0</td>\n",
       "      <td>0</td>\n",
       "      <td>2</td>\n",
       "      <td>0</td>\n",
       "      <td>1</td>\n",
       "      <td>43755</td>\n",
       "      <td>39014</td>\n",
       "      <td>3.5</td>\n",
       "      <td>6.0</td>\n",
       "      <td>225</td>\n",
       "      <td>18</td>\n",
       "      <td>24</td>\n",
       "      <td>3880</td>\n",
       "      <td>115</td>\n",
       "      <td>197</td>\n",
       "    </tr>\n",
       "    <tr>\n",
       "      <th>...</th>\n",
       "      <td>...</td>\n",
       "      <td>...</td>\n",
       "      <td>...</td>\n",
       "      <td>...</td>\n",
       "      <td>...</td>\n",
       "      <td>...</td>\n",
       "      <td>...</td>\n",
       "      <td>...</td>\n",
       "      <td>...</td>\n",
       "      <td>...</td>\n",
       "      <td>...</td>\n",
       "      <td>...</td>\n",
       "      <td>...</td>\n",
       "      <td>...</td>\n",
       "      <td>...</td>\n",
       "    </tr>\n",
       "    <tr>\n",
       "      <th>423</th>\n",
       "      <td>37</td>\n",
       "      <td>83</td>\n",
       "      <td>2</td>\n",
       "      <td>1</td>\n",
       "      <td>1</td>\n",
       "      <td>40565</td>\n",
       "      <td>38203</td>\n",
       "      <td>2.4</td>\n",
       "      <td>5.0</td>\n",
       "      <td>197</td>\n",
       "      <td>21</td>\n",
       "      <td>28</td>\n",
       "      <td>3450</td>\n",
       "      <td>105</td>\n",
       "      <td>186</td>\n",
       "    </tr>\n",
       "    <tr>\n",
       "      <th>424</th>\n",
       "      <td>37</td>\n",
       "      <td>82</td>\n",
       "      <td>2</td>\n",
       "      <td>1</td>\n",
       "      <td>1</td>\n",
       "      <td>42565</td>\n",
       "      <td>40083</td>\n",
       "      <td>2.3</td>\n",
       "      <td>5.0</td>\n",
       "      <td>242</td>\n",
       "      <td>20</td>\n",
       "      <td>26</td>\n",
       "      <td>3450</td>\n",
       "      <td>105</td>\n",
       "      <td>186</td>\n",
       "    </tr>\n",
       "    <tr>\n",
       "      <th>425</th>\n",
       "      <td>37</td>\n",
       "      <td>322</td>\n",
       "      <td>2</td>\n",
       "      <td>1</td>\n",
       "      <td>1</td>\n",
       "      <td>45210</td>\n",
       "      <td>42573</td>\n",
       "      <td>2.9</td>\n",
       "      <td>6.0</td>\n",
       "      <td>268</td>\n",
       "      <td>19</td>\n",
       "      <td>26</td>\n",
       "      <td>3653</td>\n",
       "      <td>110</td>\n",
       "      <td>190</td>\n",
       "    </tr>\n",
       "    <tr>\n",
       "      <th>426</th>\n",
       "      <td>37</td>\n",
       "      <td>389</td>\n",
       "      <td>5</td>\n",
       "      <td>1</td>\n",
       "      <td>1</td>\n",
       "      <td>26135</td>\n",
       "      <td>24641</td>\n",
       "      <td>1.9</td>\n",
       "      <td>4.0</td>\n",
       "      <td>170</td>\n",
       "      <td>22</td>\n",
       "      <td>29</td>\n",
       "      <td>2822</td>\n",
       "      <td>101</td>\n",
       "      <td>180</td>\n",
       "    </tr>\n",
       "    <tr>\n",
       "      <th>427</th>\n",
       "      <td>37</td>\n",
       "      <td>402</td>\n",
       "      <td>5</td>\n",
       "      <td>1</td>\n",
       "      <td>0</td>\n",
       "      <td>35145</td>\n",
       "      <td>33112</td>\n",
       "      <td>2.5</td>\n",
       "      <td>5.0</td>\n",
       "      <td>208</td>\n",
       "      <td>20</td>\n",
       "      <td>27</td>\n",
       "      <td>3823</td>\n",
       "      <td>109</td>\n",
       "      <td>186</td>\n",
       "    </tr>\n",
       "  </tbody>\n",
       "</table>\n",
       "<p>428 rows × 15 columns</p>\n",
       "</div>"
      ],
      "text/plain": [
       "     Make  Model  Type  Origin  DriveTrain   MSRP  Invoice  EngineSize  \\\n",
       "0       0    229     1       0           0  36945    33337         3.5   \n",
       "1       0    293     2       0           1  23820    21761         2.0   \n",
       "2       0    366     2       0           1  26990    24647         2.4   \n",
       "3       0    365     2       0           1  33195    30299         3.2   \n",
       "4       0      0     2       0           1  43755    39014         3.5   \n",
       "..    ...    ...   ...     ...         ...    ...      ...         ...   \n",
       "423    37     83     2       1           1  40565    38203         2.4   \n",
       "424    37     82     2       1           1  42565    40083         2.3   \n",
       "425    37    322     2       1           1  45210    42573         2.9   \n",
       "426    37    389     5       1           1  26135    24641         1.9   \n",
       "427    37    402     5       1           0  35145    33112         2.5   \n",
       "\n",
       "     Cylinders  Horsepower  MPG_City  MPG_Highway  Weight  Wheelbase  Length  \n",
       "0          6.0         265        17           23    4451        106     189  \n",
       "1          4.0         200        24           31    2778        101     172  \n",
       "2          4.0         200        22           29    3230        105     183  \n",
       "3          6.0         270        20           28    3575        108     186  \n",
       "4          6.0         225        18           24    3880        115     197  \n",
       "..         ...         ...       ...          ...     ...        ...     ...  \n",
       "423        5.0         197        21           28    3450        105     186  \n",
       "424        5.0         242        20           26    3450        105     186  \n",
       "425        6.0         268        19           26    3653        110     190  \n",
       "426        4.0         170        22           29    2822        101     180  \n",
       "427        5.0         208        20           27    3823        109     186  \n",
       "\n",
       "[428 rows x 15 columns]"
      ]
     },
     "execution_count": 54,
     "metadata": {},
     "output_type": "execute_result"
    }
   ],
   "source": [
    "data2"
   ]
  },
  {
   "cell_type": "code",
   "execution_count": 5,
   "id": "9fe609a9",
   "metadata": {},
   "outputs": [
    {
     "data": {
      "text/html": [
       "<div>\n",
       "<style scoped>\n",
       "    .dataframe tbody tr th:only-of-type {\n",
       "        vertical-align: middle;\n",
       "    }\n",
       "\n",
       "    .dataframe tbody tr th {\n",
       "        vertical-align: top;\n",
       "    }\n",
       "\n",
       "    .dataframe thead th {\n",
       "        text-align: right;\n",
       "    }\n",
       "</style>\n",
       "<table border=\"1\" class=\"dataframe\">\n",
       "  <thead>\n",
       "    <tr style=\"text-align: right;\">\n",
       "      <th></th>\n",
       "      <th>Make</th>\n",
       "      <th>Model</th>\n",
       "      <th>Type</th>\n",
       "      <th>Origin</th>\n",
       "      <th>DriveTrain</th>\n",
       "      <th>MSRP</th>\n",
       "      <th>Invoice</th>\n",
       "      <th>EngineSize</th>\n",
       "      <th>Cylinders</th>\n",
       "      <th>Horsepower</th>\n",
       "      <th>MPG_City</th>\n",
       "      <th>MPG_Highway</th>\n",
       "      <th>Weight</th>\n",
       "      <th>Wheelbase</th>\n",
       "      <th>Length</th>\n",
       "    </tr>\n",
       "  </thead>\n",
       "  <tbody>\n",
       "    <tr>\n",
       "      <th>0</th>\n",
       "      <td>Acura</td>\n",
       "      <td>MDX</td>\n",
       "      <td>SUV</td>\n",
       "      <td>Asia</td>\n",
       "      <td>All</td>\n",
       "      <td>36945</td>\n",
       "      <td>33337</td>\n",
       "      <td>3.5</td>\n",
       "      <td>6.0</td>\n",
       "      <td>265</td>\n",
       "      <td>17</td>\n",
       "      <td>23</td>\n",
       "      <td>4451</td>\n",
       "      <td>106</td>\n",
       "      <td>189</td>\n",
       "    </tr>\n",
       "    <tr>\n",
       "      <th>1</th>\n",
       "      <td>Acura</td>\n",
       "      <td>RSX Type S 2dr</td>\n",
       "      <td>Sedan</td>\n",
       "      <td>Asia</td>\n",
       "      <td>Front</td>\n",
       "      <td>23820</td>\n",
       "      <td>21761</td>\n",
       "      <td>2.0</td>\n",
       "      <td>4.0</td>\n",
       "      <td>200</td>\n",
       "      <td>24</td>\n",
       "      <td>31</td>\n",
       "      <td>2778</td>\n",
       "      <td>101</td>\n",
       "      <td>172</td>\n",
       "    </tr>\n",
       "    <tr>\n",
       "      <th>2</th>\n",
       "      <td>Acura</td>\n",
       "      <td>TSX 4dr</td>\n",
       "      <td>Sedan</td>\n",
       "      <td>Asia</td>\n",
       "      <td>Front</td>\n",
       "      <td>26990</td>\n",
       "      <td>24647</td>\n",
       "      <td>2.4</td>\n",
       "      <td>4.0</td>\n",
       "      <td>200</td>\n",
       "      <td>22</td>\n",
       "      <td>29</td>\n",
       "      <td>3230</td>\n",
       "      <td>105</td>\n",
       "      <td>183</td>\n",
       "    </tr>\n",
       "  </tbody>\n",
       "</table>\n",
       "</div>"
      ],
      "text/plain": [
       "    Make            Model   Type Origin DriveTrain   MSRP  Invoice  \\\n",
       "0  Acura              MDX    SUV   Asia        All  36945    33337   \n",
       "1  Acura   RSX Type S 2dr  Sedan   Asia      Front  23820    21761   \n",
       "2  Acura          TSX 4dr  Sedan   Asia      Front  26990    24647   \n",
       "\n",
       "   EngineSize  Cylinders  Horsepower  MPG_City  MPG_Highway  Weight  \\\n",
       "0         3.5        6.0         265        17           23    4451   \n",
       "1         2.0        4.0         200        24           31    2778   \n",
       "2         2.4        4.0         200        22           29    3230   \n",
       "\n",
       "   Wheelbase  Length  \n",
       "0        106     189  \n",
       "1        101     172  \n",
       "2        105     183  "
      ]
     },
     "execution_count": 5,
     "metadata": {},
     "output_type": "execute_result"
    }
   ],
   "source": [
    "data2.head(3)"
   ]
  },
  {
   "cell_type": "code",
   "execution_count": 6,
   "id": "0dd3b757",
   "metadata": {},
   "outputs": [
    {
     "data": {
      "text/plain": [
       "Make           0\n",
       "Model          0\n",
       "Type           0\n",
       "Origin         0\n",
       "DriveTrain     0\n",
       "MSRP           0\n",
       "Invoice        0\n",
       "EngineSize     0\n",
       "Cylinders      2\n",
       "Horsepower     0\n",
       "MPG_City       0\n",
       "MPG_Highway    0\n",
       "Weight         0\n",
       "Wheelbase      0\n",
       "Length         0\n",
       "dtype: int64"
      ]
     },
     "execution_count": 6,
     "metadata": {},
     "output_type": "execute_result"
    }
   ],
   "source": [
    "data2.isnull().sum()"
   ]
  },
  {
   "cell_type": "code",
   "execution_count": 7,
   "id": "01e2af64",
   "metadata": {},
   "outputs": [
    {
     "data": {
      "text/plain": [
       "array(['SUV', 'Sedan', 'Sports', 'Wagon', 'Truck', 'Hybrid'], dtype=object)"
      ]
     },
     "execution_count": 7,
     "metadata": {},
     "output_type": "execute_result"
    }
   ],
   "source": [
    "data2['Type'].unique()"
   ]
  },
  {
   "cell_type": "code",
   "execution_count": 8,
   "id": "9a8821a4",
   "metadata": {},
   "outputs": [
    {
     "data": {
      "text/plain": [
       "array(['Asia', 'Europe', 'USA'], dtype=object)"
      ]
     },
     "execution_count": 8,
     "metadata": {},
     "output_type": "execute_result"
    }
   ],
   "source": [
    "data2['Origin'].unique()"
   ]
  },
  {
   "cell_type": "code",
   "execution_count": 9,
   "id": "47bf7a9d",
   "metadata": {},
   "outputs": [
    {
     "data": {
      "text/plain": [
       "Make            38\n",
       "Model          425\n",
       "Type             6\n",
       "Origin           3\n",
       "DriveTrain       3\n",
       "MSRP           410\n",
       "Invoice        425\n",
       "EngineSize      43\n",
       "Cylinders        7\n",
       "Horsepower     110\n",
       "MPG_City        28\n",
       "MPG_Highway     33\n",
       "Weight         348\n",
       "Wheelbase       40\n",
       "Length          67\n",
       "dtype: int64"
      ]
     },
     "execution_count": 9,
     "metadata": {},
     "output_type": "execute_result"
    }
   ],
   "source": [
    "data2.nunique()"
   ]
  },
  {
   "cell_type": "code",
   "execution_count": 10,
   "id": "3132e0d4",
   "metadata": {},
   "outputs": [],
   "source": [
    "categorical_feature_mask = data2.dtypes==object"
   ]
  },
  {
   "cell_type": "code",
   "execution_count": 11,
   "id": "869e1449",
   "metadata": {},
   "outputs": [
    {
     "data": {
      "text/plain": [
       "Make            True\n",
       "Model           True\n",
       "Type            True\n",
       "Origin          True\n",
       "DriveTrain      True\n",
       "MSRP           False\n",
       "Invoice        False\n",
       "EngineSize     False\n",
       "Cylinders      False\n",
       "Horsepower     False\n",
       "MPG_City       False\n",
       "MPG_Highway    False\n",
       "Weight         False\n",
       "Wheelbase      False\n",
       "Length         False\n",
       "dtype: bool"
      ]
     },
     "execution_count": 11,
     "metadata": {},
     "output_type": "execute_result"
    }
   ],
   "source": [
    "categorical_feature_mask"
   ]
  },
  {
   "cell_type": "code",
   "execution_count": 12,
   "id": "4fef1f5b",
   "metadata": {},
   "outputs": [],
   "source": [
    "categorical_cols = data2.columns[categorical_feature_mask].tolist()"
   ]
  },
  {
   "cell_type": "code",
   "execution_count": 13,
   "id": "f8fbba43",
   "metadata": {},
   "outputs": [
    {
     "data": {
      "text/plain": [
       "['Make', 'Model', 'Type', 'Origin', 'DriveTrain']"
      ]
     },
     "execution_count": 13,
     "metadata": {},
     "output_type": "execute_result"
    }
   ],
   "source": [
    "categorical_cols"
   ]
  },
  {
   "cell_type": "code",
   "execution_count": 14,
   "id": "76503539",
   "metadata": {},
   "outputs": [],
   "source": [
    "LE =LabelEncoder()"
   ]
  },
  {
   "cell_type": "code",
   "execution_count": 15,
   "id": "c8c7de9a",
   "metadata": {},
   "outputs": [],
   "source": [
    "data2[categorical_cols] = data2[categorical_cols].apply(lambda col: LE.fit_transform(col))"
   ]
  },
  {
   "cell_type": "code",
   "execution_count": 16,
   "id": "ba2ec086",
   "metadata": {},
   "outputs": [
    {
     "data": {
      "text/plain": [
       "Make           False\n",
       "Model          False\n",
       "Type           False\n",
       "Origin         False\n",
       "DriveTrain     False\n",
       "MSRP           False\n",
       "Invoice        False\n",
       "EngineSize     False\n",
       "Cylinders       True\n",
       "Horsepower     False\n",
       "MPG_City       False\n",
       "MPG_Highway    False\n",
       "Weight         False\n",
       "Wheelbase      False\n",
       "Length         False\n",
       "dtype: bool"
      ]
     },
     "execution_count": 16,
     "metadata": {},
     "output_type": "execute_result"
    }
   ],
   "source": [
    "pd.isnull(data2).sum() > 0\n"
   ]
  },
  {
   "cell_type": "code",
   "execution_count": 17,
   "id": "8d380317",
   "metadata": {},
   "outputs": [],
   "source": [
    "data2['Cylinders'] = data2['Cylinders'].fillna(data2['Cylinders'].mean())"
   ]
  },
  {
   "cell_type": "code",
   "execution_count": 18,
   "id": "a8aed13b",
   "metadata": {},
   "outputs": [],
   "source": [
    "Y = data2['Origin']\n",
    "X = data2.drop('Origin',axis = 1)"
   ]
  },
  {
   "cell_type": "code",
   "execution_count": 19,
   "id": "789cf57e",
   "metadata": {},
   "outputs": [],
   "source": [
    "X_train, X_test, y_train, y_test =train_test_split(X, Y,test_size=0.3, random_state=2)"
   ]
  },
  {
   "cell_type": "markdown",
   "id": "3731b3a5",
   "metadata": {},
   "source": [
    "**Feature engineering**"
   ]
  },
  {
   "cell_type": "code",
   "execution_count": 20,
   "id": "40619336",
   "metadata": {},
   "outputs": [],
   "source": [
    "from sklearn.model_selection import GridSearchCV"
   ]
  },
  {
   "cell_type": "code",
   "execution_count": 46,
   "id": "e9c4f800",
   "metadata": {},
   "outputs": [
    {
     "data": {
      "image/png": "[encoded data removed]",
      "text/plain": [
       "<Figure size 936x576 with 2 Axes>"
      ]
     },
     "metadata": {
      "needs_background": "light"
     },
     "output_type": "display_data"
    }
   ],
   "source": [
    "# Quantify correlations\n",
    "corr = data2.corr()\n",
    "plt.figure(figsize = (13, 8))\n",
    "sns.heatmap(corr, cmap='RdYlGn', annot = True, center = 0)\n",
    "plt.title('Correlogram', fontsize = 15, color = 'darkgreen')\n",
    "plt.show()"
   ]
  },
  {
   "cell_type": "markdown",
   "id": "83ebef20",
   "metadata": {},
   "source": [
    "**lgbm model**"
   ]
  },
  {
   "cell_type": "code",
   "execution_count": 22,
   "id": "b9fbd8d0",
   "metadata": {},
   "outputs": [],
   "source": [
    "lgb_model = LGBMClassifier()\n",
    "lgb_model.fit(X_train, y_train)\n",
    "\n",
    "# Making predictions\n",
    "y_pred = lgb_model.predict(X_test)\n",
    "\n",
    "# Measuring the accuracy of the model\n",
    "def evaluate_model(test,predictions):\n",
    "    print(f'Accuracy score: {accuracy_score(test, predictions)}')\n",
    "    print('\\n')\n",
    "    print(f'{classification_report(test, predictions)}')"
   ]
  },
  {
   "cell_type": "code",
   "execution_count": 23,
   "id": "f9c231a7",
   "metadata": {},
   "outputs": [
    {
     "name": "stdout",
     "output_type": "stream",
     "text": [
      "Accuracy score: 0.9534883720930233\n",
      "\n",
      "\n",
      "              precision    recall  f1-score   support\n",
      "\n",
      "           0       0.94      0.94      0.94        52\n",
      "           1       0.95      0.95      0.95        42\n",
      "           2       0.97      0.97      0.97        35\n",
      "\n",
      "    accuracy                           0.95       129\n",
      "   macro avg       0.96      0.96      0.96       129\n",
      "weighted avg       0.95      0.95      0.95       129\n",
      "\n"
     ]
    }
   ],
   "source": [
    "evaluate_model(y_test,y_pred)"
   ]
  },
  {
   "cell_type": "code",
   "execution_count": 24,
   "id": "3f1db508",
   "metadata": {},
   "outputs": [
    {
     "data": {
      "text/plain": [
       "array([1, 0, 1, 1, 2, 1, 1, 2, 1, 0, 2, 0, 1, 0, 1, 0, 2, 0, 0, 0, 0, 0,\n",
       "       0, 2, 2, 2, 2, 0, 0, 1, 2, 2, 0, 1, 1, 2, 0, 2, 0, 1, 0, 1, 0, 2,\n",
       "       0, 2, 0, 1, 2, 2, 1, 1, 2, 2, 2, 2, 0, 0, 0, 1, 1, 1, 1, 1, 2, 2,\n",
       "       1, 2, 0, 1, 0, 2, 0, 2, 0, 0, 0, 2, 1, 2, 1, 2, 0, 1, 0, 2, 0, 0,\n",
       "       0, 1, 1, 0, 2, 0, 0, 0, 0, 1, 1, 1, 1, 1, 2, 1, 0, 0, 2, 2, 0, 0,\n",
       "       0, 2, 1, 0, 1, 0, 0, 0, 1, 2, 0, 1, 1, 0, 1, 0, 1, 0, 1])"
      ]
     },
     "execution_count": 24,
     "metadata": {},
     "output_type": "execute_result"
    }
   ],
   "source": [
    "y_pred"
   ]
  },
  {
   "cell_type": "code",
   "execution_count": null,
   "id": "c1d42175",
   "metadata": {},
   "outputs": [],
   "source": []
  },
  {
   "cell_type": "markdown",
   "id": "e2040c32",
   "metadata": {},
   "source": [
    "**KNN algo**"
   ]
  },
  {
   "cell_type": "code",
   "execution_count": 47,
   "id": "a824634d",
   "metadata": {},
   "outputs": [],
   "source": [
    "from sklearn.neighbors import KNeighborsClassifier"
   ]
  },
  {
   "cell_type": "code",
   "execution_count": 48,
   "id": "66a46596",
   "metadata": {},
   "outputs": [],
   "source": [
    "knn =  KNeighborsClassifier(n_neighbors=11)"
   ]
  },
  {
   "cell_type": "code",
   "execution_count": 49,
   "id": "acf20f9d",
   "metadata": {},
   "outputs": [
    {
     "data": {
      "text/plain": [
       "KNeighborsClassifier(n_neighbors=11)"
      ]
     },
     "execution_count": 49,
     "metadata": {},
     "output_type": "execute_result"
    }
   ],
   "source": [
    "knn.fit(X_train,y_train)"
   ]
  },
  {
   "cell_type": "code",
   "execution_count": 50,
   "id": "30292c8a",
   "metadata": {},
   "outputs": [],
   "source": [
    "y_predKnn= knn.predict(X_test)"
   ]
  },
  {
   "cell_type": "code",
   "execution_count": 51,
   "id": "078a5868",
   "metadata": {},
   "outputs": [
    {
     "data": {
      "text/plain": [
       "array([1, 2, 1, 1, 1, 0, 2, 2, 1, 0, 0, 2, 1, 0, 1, 1, 2, 0, 0, 2, 2, 2,\n",
       "       2, 1, 0, 2, 2, 0, 1, 2, 2, 1, 0, 0, 1, 0, 1, 0, 0, 1, 2, 2, 2, 1,\n",
       "       0, 2, 0, 1, 0, 2, 0, 2, 0, 1, 1, 0, 0, 0, 0, 1, 1, 1, 0, 0, 0, 2,\n",
       "       1, 0, 2, 1, 0, 1, 0, 2, 2, 1, 0, 0, 1, 2, 2, 0, 2, 1, 0, 0, 2, 0,\n",
       "       1, 1, 2, 0, 2, 1, 2, 0, 1, 1, 1, 2, 1, 0, 0, 1, 0, 0, 2, 0, 0, 0,\n",
       "       2, 0, 2, 0, 1, 0, 1, 2, 1, 0, 0, 1, 1, 0, 1, 0, 1, 0, 1])"
      ]
     },
     "execution_count": 51,
     "metadata": {},
     "output_type": "execute_result"
    }
   ],
   "source": [
    "y_predKnn"
   ]
  },
  {
   "cell_type": "code",
   "execution_count": 52,
   "id": "a28c5076",
   "metadata": {},
   "outputs": [
    {
     "name": "stdout",
     "output_type": "stream",
     "text": [
      "Accuracy score: 0.5193798449612403\n",
      "\n",
      "\n",
      "              precision    recall  f1-score   support\n",
      "\n",
      "           0       0.55      0.54      0.54        52\n",
      "           1       0.63      0.64      0.64        42\n",
      "           2       0.34      0.34      0.34        35\n",
      "\n",
      "    accuracy                           0.52       129\n",
      "   macro avg       0.51      0.51      0.51       129\n",
      "weighted avg       0.52      0.52      0.52       129\n",
      "\n"
     ]
    }
   ],
   "source": [
    "evaluate_model(y_test,y_predKnn)"
   ]
  },
  {
   "cell_type": "code",
   "execution_count": 109,
   "id": "08264880",
   "metadata": {},
   "outputs": [
    {
     "name": "stdout",
     "output_type": "stream",
     "text": [
      "{'n_neighbors': 11}\n"
     ]
    }
   ],
   "source": [
    "print(grid_search.best_params_)"
   ]
  },
  {
   "cell_type": "code",
   "execution_count": 53,
   "id": "a925bc02",
   "metadata": {},
   "outputs": [
    {
     "name": "stdout",
     "output_type": "stream",
     "text": [
      "Fitting 10 folds for each of 30 candidates, totalling 300 fits\n"
     ]
    }
   ],
   "source": [
    "k_range = list(range(1, 31))\n",
    "param_grid = dict(n_neighbors=k_range)\n",
    "  \n",
    "# defining parameter range\n",
    "grid = GridSearchCV(knn, param_grid, cv=10, scoring='accuracy', return_train_score=False,verbose=1)\n",
    "  \n",
    "# fitting the model for grid search\n",
    "grid_search=grid.fit(X_train, y_train)"
   ]
  },
  {
   "cell_type": "markdown",
   "id": "07c0018a",
   "metadata": {},
   "source": [
    "**XGBC model**"
   ]
  },
  {
   "cell_type": "code",
   "execution_count": 41,
   "id": "e3c3366e",
   "metadata": {},
   "outputs": [],
   "source": [
    "from xgboost import XGBClassifier"
   ]
  },
  {
   "cell_type": "code",
   "execution_count": 42,
   "id": "5adac14d",
   "metadata": {},
   "outputs": [],
   "source": [
    "xgbc = XGBClassifier()"
   ]
  },
  {
   "cell_type": "code",
   "execution_count": 43,
   "id": "d563c8c0",
   "metadata": {},
   "outputs": [
    {
     "name": "stderr",
     "output_type": "stream",
     "text": [
      "C:\\Users\\jihed\\anaconda3\\lib\\site-packages\\xgboost\\sklearn.py:1224: UserWarning: The use of label encoder in XGBClassifier is deprecated and will be removed in a future release. To remove this warning, do the following: 1) Pass option use_label_encoder=False when constructing XGBClassifier object; and 2) Encode your labels (y) as integers starting with 0, i.e. 0, 1, 2, ..., [num_class - 1].\n",
      "  warnings.warn(label_encoder_deprecation_msg, UserWarning)\n"
     ]
    },
    {
     "name": "stdout",
     "output_type": "stream",
     "text": [
      "[21:17:45] WARNING: C:/Users/Administrator/workspace/xgboost-win64_release_1.5.1/src/learner.cc:1115: Starting in XGBoost 1.3.0, the default evaluation metric used with the objective 'multi:softprob' was changed from 'merror' to 'mlogloss'. Explicitly set eval_metric if you'd like to restore the old behavior.\n"
     ]
    },
    {
     "data": {
      "text/plain": [
       "XGBClassifier(base_score=0.5, booster='gbtree', colsample_bylevel=1,\n",
       "              colsample_bynode=1, colsample_bytree=1, enable_categorical=False,\n",
       "              gamma=0, gpu_id=-1, importance_type=None,\n",
       "              interaction_constraints='', learning_rate=0.300000012,\n",
       "              max_delta_step=0, max_depth=6, min_child_weight=1, missing=nan,\n",
       "              monotone_constraints='()', n_estimators=100, n_jobs=12,\n",
       "              num_parallel_tree=1, objective='multi:softprob', predictor='auto',\n",
       "              random_state=0, reg_alpha=0, reg_lambda=1, scale_pos_weight=None,\n",
       "              subsample=1, tree_method='exact', validate_parameters=1,\n",
       "              verbosity=None)"
      ]
     },
     "execution_count": 43,
     "metadata": {},
     "output_type": "execute_result"
    }
   ],
   "source": [
    "xgbc.fit(X_train,y_train)"
   ]
  },
  {
   "cell_type": "code",
   "execution_count": 44,
   "id": "8aaefcfe",
   "metadata": {},
   "outputs": [],
   "source": [
    "y_predXGBC = xgbc.predict(X_test)"
   ]
  },
  {
   "cell_type": "code",
   "execution_count": 45,
   "id": "76bae730",
   "metadata": {},
   "outputs": [
    {
     "name": "stdout",
     "output_type": "stream",
     "text": [
      "Accuracy score: 0.9534883720930233\n",
      "\n",
      "\n",
      "              precision    recall  f1-score   support\n",
      "\n",
      "           0       0.93      0.96      0.94        52\n",
      "           1       0.95      0.95      0.95        42\n",
      "           2       1.00      0.94      0.97        35\n",
      "\n",
      "    accuracy                           0.95       129\n",
      "   macro avg       0.96      0.95      0.96       129\n",
      "weighted avg       0.95      0.95      0.95       129\n",
      "\n"
     ]
    }
   ],
   "source": [
    "evaluate_model(y_test,y_predXGBC)"
   ]
  },
  {
   "cell_type": "code",
   "execution_count": null,
   "id": "118f0aa2",
   "metadata": {},
   "outputs": [],
   "source": []
  },
  {
   "cell_type": "code",
   "execution_count": null,
   "id": "9e5e5524",
   "metadata": {},
   "outputs": [],
   "source": []
  }
 ],
 "metadata": {
  "kernelspec": {
   "display_name": "Python 3 (ipykernel)",
   "language": "python",
   "name": "python3"
  },
  "language_info": {
   "codemirror_mode": {
    "name": "ipython",
    "version": 3
   },
   "file_extension": ".py",
   "mimetype": "text/x-python",
   "name": "python",
   "nbconvert_exporter": "python",
   "pygments_lexer": "ipython3",
   "version": "3.9.7"
  }
 },
 "nbformat": 4,
 "nbformat_minor": 5
}
